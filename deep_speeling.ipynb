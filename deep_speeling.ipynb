{
 "cells": [
  {
   "cell_type": "markdown",
   "metadata": {},
   "source": [
    "# Spelling Correction using Deep Learning\n",
    "\n",
    "Inspired by https://medium.com/@majortal/deep-spelling-9ffef96a24f6. Code can be found at https://github.com/MajorTal/DeepSpell/blob/master/keras_spell.py.\n",
    "\n",
    "**Character Sequence to Sequence** code pulled from https://github.com/mdcramer/deep-learning/tree/master/seq2seq.\n",
    "\n",
    "Environment initialization:\n",
    "* open Acaconda terminal\n",
    "* run \">activate tensorflow\"\n",
    "* run \">jupyter notebook\"\n",
    "\n",
    "\"I see that you have made three spelling mistakes.\" - Marquis de Favras, purportedly, upon the reading of his death warrant prior to be hanged in 1790.\n",
    "<img src=\"images/MarquisdeFavras.jpg\"/>"
   ]
  },
  {
   "cell_type": "markdown",
   "metadata": {},
   "source": [
    "# Initialize global variables\n",
    "**Make sure to run this cell first each time**\n",
    "\n",
    "Continue to work with big data. Jump down to work with small data."
   ]
  },
  {
   "cell_type": "code",
   "execution_count": 9,
   "metadata": {
    "collapsed": true
   },
   "outputs": [],
   "source": [
    "# Global imports\n",
    "import os\n",
    "\n",
    "# These filesname are loaded here since they're used after the graph has been saved\n",
    "GRAPH_PARAMETERS = \"graph_params\" # Filename for storing parameters associated with the graph\n",
    "SOURCE_INT_TO_LETTER = \"sourceinttoletter.json\" # Filename for storing INT to letter List for source sentences\n",
    "TARGET_INT_TO_LETTER = \"targetinttoletter.json\" # Filename for storing INT to letter List for target sentences\n",
    "SOURCE_LETTER_TO_INT = \"sourcelettertoint.json\" # Filename for storing letter to INT List for source sentences\n",
    "TARGET_LETTER_TO_INT = \"targetlettertoint.json\" # Filename for storing letter to INT List for source sentences\n",
    "\n",
    "# This is where the graph is going to be saved and reloaded\n",
    "checkpoint = \"./best_model.ckpt\""
   ]
  },
  {
   "cell_type": "markdown",
   "metadata": {
    "collapsed": true
   },
   "source": [
    "## Download raw data file from the internet and uncompress it\n",
    "\n",
    "[One Billion Word Benchmark for Measuring Progress in Statistical Language Modeling](https://research.google.com/pubs/pub41880.html)\n",
    "\n",
    "**Start here if you are going to work with the big dataset** The dataset lives in the /data/ folder.\n",
    "\n",
    "**Skip to below to work with the small dataset**"
   ]
  },
  {
   "cell_type": "code",
   "execution_count": 2,
   "metadata": {},
   "outputs": [
    {
     "name": "stdout",
     "output_type": "stream",
     "text": [
      "Local copy of compressed data file is up to date.\n",
      "Data file is already uncompressed.\n"
     ]
    }
   ],
   "source": [
    "import errno\n",
    "import requests\n",
    "import gzip\n",
    "\n",
    "NEWS_FILE_NAME_COMPRESSED = os.path.join(os.path.expanduser(\"data\"), \"news.2013.en.shuffled.gz\") # 1.1 GB file\n",
    "DATA_FILES_URL = \"http://www.statmt.org/wmt14/training-monolingual-news-crawl/news.2013.en.shuffled.gz\" # file location\n",
    "\n",
    "# create directory for data, if it does not already exist\n",
    "try:\n",
    "    os.makedirs(os.path.dirname(NEWS_FILE_NAME_COMPRESSED))\n",
    "except OSError as exception:\n",
    "    if exception.errno != errno.EEXIST:\n",
    "        raise\n",
    "\n",
    "# check size of current data file\n",
    "try:\n",
    "    current_size = os.path.getsize(NEWS_FILE_NAME_COMPRESSED)\n",
    "except:\n",
    "    current_size = 0\n",
    "\n",
    "# check size of data file on internet\n",
    "response = requests.get(DATA_FILES_URL, stream=True)\n",
    "total_length = response.headers.get('content-length') # returns a str\n",
    "total_length = int(total_length)\n",
    "    \n",
    "# download file if it is larger than the one already in the data directory\n",
    "if (total_length > current_size):\n",
    "    print(\"Download compressed data file\")\n",
    "    with open(NEWS_FILE_NAME_COMPRESSED, \"wb\") as output_file: # open for writing in binary mode\n",
    "        downloaded = percentage = 0\n",
    "        print(\"»\"*100)\n",
    "        for data in response.iter_content(chunk_size=4096):\n",
    "            downloaded += len(data)\n",
    "            output_file.write(data)\n",
    "            new_percentage = 100 * downloaded // total_length # // is floor divide\n",
    "            if new_percentage > percentage:\n",
    "                print(\"o\", end=\"\") # end=\"\" remove carriage return\n",
    "                percentage = new_percentage\n",
    "    print() # add carriage return at the end of progress indicator\n",
    "else:\n",
    "    print(\"Local copy of compressed data file is up to date.\")\n",
    "    \n",
    "# uncompress data\n",
    "if (os.path.isfile(NEWS_FILE_NAME_COMPRESSED[:-3])): # check to see if file already exists\n",
    "    print(\"Data file is already uncompressed.\")\n",
    "else:\n",
    "    print(\"Uncompress data file.\") # uncompress the file if it does not\n",
    "    with gzip.open(NEWS_FILE_NAME_COMPRESSED, 'rb') as compressed_file:\n",
    "        with open(NEWS_FILE_NAME_COMPRESSED[:-3], 'wb') as outfile: #2.5 GB file\n",
    "            outfile.write(compressed_file.read())\n",
    "    print(\"Data file uncompressed.\")"
   ]
  },
  {
   "cell_type": "markdown",
   "metadata": {},
   "source": [
    "## Clean the data\n",
    "Takes the `news.2013.en.clean` and input and produces `news.2013.en.shuffled`."
   ]
  },
  {
   "cell_type": "code",
   "execution_count": 3,
   "metadata": {},
   "outputs": [
    {
     "name": "stdout",
     "output_type": "stream",
     "text": [
      "Data file is already clean.\n"
     ]
    }
   ],
   "source": [
    "import re\n",
    "\n",
    "NEWS_FILE_NAME_CLEAN = os.path.join(os.path.expanduser(\"data\"), \"news.2013.en.clean\") # clean data file\n",
    "NEWS_FILE_NAME = os.path.join(os.path.expanduser(\"data\"), \"news.2013.en.shuffled\") # uncompressed data file\n",
    "\n",
    "NORMALIZE_WHITESPACE_REGEX = re.compile(r'[^\\S\\n]+', re.UNICODE) # match all whitespace except newlines\n",
    "RE_DASH_FILTER = re.compile(r'[\\-\\˗\\֊\\‐\\‑\\‒\\–\\—\\⁻\\₋\\−\\﹣\\－]', re.UNICODE)\n",
    "RE_APOSTROPHE_FILTER = re.compile(r'&#39;|[ʼ՚＇‘’‛❛❜ߴߵ`‵´ˊˋ{}{}{}{}{}{}{}{}{}]'\n",
    "                                  .format(chr(768), chr(769), chr(832), chr(833), chr(2387),\n",
    "                                          chr(5151), chr(5152), chr(65344), chr(8242)), re.UNICODE)\n",
    "RE_LEFT_PARENTH_FILTER = re.compile(r'[\\(\\[\\{\\⁽\\₍\\❨\\❪\\﹙\\（]', re.UNICODE)\n",
    "RE_RIGHT_PARENTH_FILTER = re.compile(r'[\\)\\]\\}\\⁾\\₎\\❩\\❫\\﹚\\）]', re.UNICODE)\n",
    "ALLOWED_CURRENCIES = \"\"\"¥£₪$€฿₨\"\"\"\n",
    "ALLOWED_PUNCTUATION = \"\"\"-!?/;\"'%&<>.()[]{}@#:,|=*\"\"\"\n",
    "RE_BASIC_CLEANER = re.compile(r'[^\\w\\s{}{}]'\n",
    "                              .format(re.escape(ALLOWED_CURRENCIES), re.escape(ALLOWED_PUNCTUATION)), re.UNICODE)\n",
    "\n",
    "def file_len(fname):\n",
    "    with open(fname, encoding=\"utf8\") as f:\n",
    "        for i, l in enumerate(f):\n",
    "            pass\n",
    "    return i + 1\n",
    "\n",
    "def clean_text(text):\n",
    "    # Clean the text - remove unwanted chars, fold punctuation etc.\n",
    "    result = NORMALIZE_WHITESPACE_REGEX.sub(' ', text.strip())\n",
    "    result = RE_DASH_FILTER.sub('-', result)\n",
    "    result = RE_APOSTROPHE_FILTER.sub(\"'\", result)\n",
    "    result = RE_LEFT_PARENTH_FILTER.sub(\"(\", result)\n",
    "    result = RE_RIGHT_PARENTH_FILTER.sub(\")\", result)\n",
    "    result = RE_BASIC_CLEANER.sub('', result)\n",
    "    return result\n",
    "\n",
    "if (os.path.isfile(NEWS_FILE_NAME_CLEAN)):\n",
    "    print(\"Data file is already clean.\")\n",
    "else:    \n",
    "    print(\"Clean data file:\")\n",
    "    number_lines = file_len(NEWS_FILE_NAME)\n",
    "    with open(NEWS_FILE_NAME_CLEAN, \"wb\") as clean_data:\n",
    "        processed = percentage = 0\n",
    "        for line in open(NEWS_FILE_NAME, encoding=\"utf8\"):\n",
    "            processed += 1\n",
    "            # decoded_line = line.decode('utf-8') # https://stackoverflow.com/a/28583969/852795\n",
    "            cleaned_line = clean_text(line)\n",
    "            encoded_line = cleaned_line.encode(\"utf-8\")\n",
    "            clean_data.write(encoded_line + b\"\\n\")\n",
    "            new_percentage = 100 * processed // number_lines\n",
    "            if (new_percentage > percentage):\n",
    "                print(\"{0:2d}\".format(new_percentage), \"%: \", line, end=\"\")\n",
    "                percentage = new_percentage"
   ]
  },
  {
   "cell_type": "markdown",
   "metadata": {},
   "source": [
    "## Analyze the charaters\n",
    "\n",
    "Get counts of all of the characters and select the top ones for processing and filter only sentences with the right charcters. Eliminate any sentences that are too small or too long.\n",
    "\n",
    "Takes `news.2013.en.shuffled` as input and produces `news.2013.en.filtered` and `news.2013.en.char_frequency.json`."
   ]
  },
  {
   "cell_type": "code",
   "execution_count": 4,
   "metadata": {},
   "outputs": [
    {
     "name": "stdout",
     "output_type": "stream",
     "text": [
      "Character frequency file already created.\n",
      "The top %s chars are: 100\n",
      "\n",
      " !\"#$%&'()*,-./0123456789:;=?@ABCDEFGHIJKLMNOPQRSTUVWXYZ_abcdefghijklmnopqrstuvwxyz£àáâçèéêíîïôùûü€\n",
      "\n",
      "Filtered file already created.\n"
     ]
    }
   ],
   "source": [
    "from collections import Counter\n",
    "import json\n",
    "\n",
    "NUMBER_OF_CHARS = 100 # quantity of most popular characters to keep\n",
    "CHAR_FREQUENCY_FILE_NAME = os.path.join(os.path.expanduser(\"data\"), \"news.2013.en.char_frequency.json\")\n",
    "NEWS_FILE_NAME_FILTERED = os.path.join(os.path.expanduser(\"data\"), \"news.2013.en.filtered\")\n",
    "MIN_INPUT_LEN = 5 # minimum number of characters in a sentence\n",
    "MAX_INPUT_LEN = 60 # maximum number of characters in a sentence\n",
    "\n",
    "# create character frequency file\n",
    "if (os.path.isfile(CHAR_FREQUENCY_FILE_NAME)):\n",
    "    print(\"Character frequency file already created.\")\n",
    "else:\n",
    "    counter = Counter()\n",
    "    print(\"Reading data file:\")\n",
    "    for line in open(NEWS_FILE_NAME_CLEAN, encoding=\"utf8\"):\n",
    "        counter.update(line)\n",
    "    print(\"Done. Writing to file:\")\n",
    "    with open(CHAR_FREQUENCY_FILE_NAME, 'wb') as output_file:\n",
    "        output_file.write(json.dumps(counter).encode(\"utf-8\"))\n",
    "    most_popular_chars = {key for key, _value in counter.most_common(NUMBER_OF_CHARS)}\n",
    "    \n",
    "# read top characters that were saved to file\n",
    "chars = json.loads(open(CHAR_FREQUENCY_FILE_NAME).read())\n",
    "counter = Counter(chars)\n",
    "most_popular_chars = {key for key, _value in counter.most_common(NUMBER_OF_CHARS)}\n",
    "print(\"The top %s chars are:\", NUMBER_OF_CHARS)\n",
    "print(\"\".join(sorted(most_popular_chars)))\n",
    "\n",
    "# filter only sentences with the right chars\n",
    "if (os.path.isfile(NEWS_FILE_NAME_FILTERED)):\n",
    "    print(\"\\nFiltered file already created.\")\n",
    "else:\n",
    "    print(\"\\nReading and filtering data:\")\n",
    "    num_lines = 0\n",
    "    with open(NEWS_FILE_NAME_FILTERED, \"wb\") as output_file:\n",
    "        for line in open(NEWS_FILE_NAME_CLEAN, encoding=\"utf8\"):\n",
    "            if line and (not bool(set(line) - most_popular_chars)) and (MAX_INPUT_LEN >= len(line) > MIN_INPUT_LEN):\n",
    "                output_file.write(line.encode(\"utf8\"))\n",
    "                num_lines += 1\n",
    "                if (num_lines % 1000000 == 0):\n",
    "                    print(\"{0:10,d}\".format(num_lines), \": \", line, end=\"\")\n",
    "    print(\"Done. Filtered file contains {:,} lines.\".format(num_lines))"
   ]
  },
  {
   "cell_type": "markdown",
   "metadata": {},
   "source": [
    "## Split the data into training and validation sets\n",
    "Takes `news.2013.en.filtered` as input and produces `news.2013.en.train` and `news.2013.en.validate`."
   ]
  },
  {
   "cell_type": "code",
   "execution_count": 5,
   "metadata": {},
   "outputs": [
    {
     "name": "stdout",
     "output_type": "stream",
     "text": [
      "Training and Validation files already created.\n"
     ]
    }
   ],
   "source": [
    "from numpy.random import shuffle as random_shuffle\n",
    "\n",
    "NEWS_FILE_NAME_TRAIN = os.path.join(os.path.expanduser(\"data\"), \"news.2013.en.train\")\n",
    "NEWS_FILE_NAME_VALIDATE = os.path.join(os.path.expanduser(\"data\"), \"news.2013.en.validate\")\n",
    "\n",
    "if (os.path.isfile(NEWS_FILE_NAME_TRAIN)):\n",
    "    print(\"Training and Validation files already created.\")\n",
    "else:\n",
    "    answers = open(NEWS_FILE_NAME_FILTERED, encoding=\"utf8\").read().split(\"\\n\")\n",
    "    print('shuffle', end=\" \")\n",
    "    random_shuffle(answers)\n",
    "    print(\"Done\")\n",
    "    # Explicitly set apart 10% for validation data that we never train over\n",
    "    # TODO skip if files already exist\n",
    "    split_at = len(answers) - len(answers) // 10\n",
    "    with open(NEWS_FILE_NAME_TRAIN, \"wb\") as output_file:\n",
    "        output_file.write(\"\\n\".join(answers[:split_at]).encode('utf-8'))\n",
    "    with open(NEWS_FILE_NAME_VALIDATE, \"wb\") as output_file:\n",
    "        output_file.write(\"\\n\".join(answers[split_at:]).encode('utf-8'))\n",
    "    print(\"\\nTraining and Validation files written.\")"
   ]
  },
  {
   "cell_type": "markdown",
   "metadata": {},
   "source": [
    "## Load the target data and generate source data by injecting mistakes"
   ]
  },
  {
   "cell_type": "code",
   "execution_count": 6,
   "metadata": {},
   "outputs": [
    {
     "name": "stdout",
     "output_type": "stream",
     "text": [
      "\n",
      "First 10 sentence:\n",
      "\n",
      "Source --> The leading ladis that impacted on Sir David's life\n",
      "Target --> The leading ladies that impacted on Sir David's life\n",
      "\n",
      "Source --> They resigned from the Party.\n",
      "Target --> They resigned from the Party.\n",
      "\n",
      "Source --> Everything he went for zoday went for six or four.\n",
      "Target --> Everything he went for today went for six or four.\n",
      "\n",
      "Source --> Hannon St., 1600 block, 4:33 p.m.\n",
      "Target --> Hannon St., 1600 block, 4:33 p.m.\n",
      "\n",
      "Source --> Beqause they're holy places.\n",
      "Target --> Because they're holy places.\n",
      "\n",
      "Source --> The next person would have the lightr,\" he says.\n",
      "Target --> The next person would have the lighter,\" he says.\n",
      "\n",
      "Source --> The acquittal of Rabei Osman is also upheld.\n",
      "Target --> The acquittal of Rabei Osman is also upheld.\n",
      "\n",
      "Source --> \"But I'll tell you what,\" he added.\n",
      "Target --> \"But I'll tell you what,\" he added.\n",
      "\n",
      "Source --> It can't make Fa rofit from what it's got already.\n",
      "Target --> It can't make a profit from what it's got already.\n",
      "\n",
      "Source --> The results were largely the same.\n",
      "Target --> The results were largely the same.\n"
     ]
    }
   ],
   "source": [
    "AMOUNT_OF_NOISE = 0.2 / MAX_INPUT_LEN\n",
    "\n",
    "from numpy.random import choice as random_choice, randint as random_randint, seed as random_seed, rand\n",
    "\n",
    "def add_noise_to_string(a_string, amount_of_noise): # Add some artificial spelling mistakes to the string\n",
    "    \n",
    "    CHARS = list(\"abcdefghijklmnopqrstuvwxyzABCDEFGHIJKLMNOPQRSTUVWXYZ .\")\n",
    "\n",
    "    if rand() < amount_of_noise * len(a_string):\n",
    "        # Replace a character with a random character\n",
    "        random_char_position = random_randint(len(a_string))\n",
    "        a_string = a_string[:random_char_position] + random_choice(CHARS[:-1]) + a_string[random_char_position + 1:]\n",
    "    if rand() < amount_of_noise * len(a_string):\n",
    "        # Delete a character\n",
    "        random_char_position = random_randint(len(a_string))\n",
    "        a_string = a_string[:random_char_position] + a_string[random_char_position + 1:]\n",
    "    if len(a_string) < MAX_INPUT_LEN and rand() < amount_of_noise * len(a_string):\n",
    "        # Add a random character\n",
    "        random_char_position = random_randint(len(a_string))\n",
    "        a_string = a_string[:random_char_position] + random_choice(CHARS[:-1]) + a_string[random_char_position:]\n",
    "    if rand() < amount_of_noise * len(a_string):\n",
    "        # Transpose 2 characters\n",
    "        random_char_position = random_randint(len(a_string) - 1)\n",
    "        a_string = (a_string[:random_char_position] + a_string[random_char_position + 1] + \n",
    "                    a_string[random_char_position] + a_string[random_char_position + 2:])\n",
    "    return a_string\n",
    "\n",
    "#TODO save file with source_sentences so no need to recompute\n",
    "target_sentences = open(NEWS_FILE_NAME_TRAIN, encoding=\"utf8\").read().split(\"\\n\")    \n",
    "source_sentences = open(NEWS_FILE_NAME_TRAIN, encoding=\"utf8\").read().split(\"\\n\")\n",
    "for i in range(len(source_sentences)):\n",
    "    source_sentences[i] = add_noise_to_string(source_sentences[i], AMOUNT_OF_NOISE)\n",
    "\n",
    "print('\\nFirst 10 sentence:')\n",
    "for i in range (0, 10):\n",
    "    print(\"\\nSource --> \" + source_sentences[i])\n",
    "    print(\"Target --> \" + target_sentences[i])"
   ]
  },
  {
   "cell_type": "markdown",
   "metadata": {},
   "source": [
    "## Dataset\n",
    "Take a look at the initial source and target datasets."
   ]
  },
  {
   "cell_type": "code",
   "execution_count": 7,
   "metadata": {},
   "outputs": [
    {
     "name": "stdout",
     "output_type": "stream",
     "text": [
      "The source is comprised of 4,319,687 sentences. Here are the first 10.\n"
     ]
    },
    {
     "data": {
      "text/plain": [
       "[\"The leading ladis that impacted on Sir David's life\",\n",
       " 'They resigned from the Party.',\n",
       " 'Everything he went for zoday went for six or four.',\n",
       " 'Hannon St., 1600 block, 4:33 p.m.',\n",
       " \"Beqause they're holy places.\",\n",
       " 'The next person would have the lightr,\" he says.',\n",
       " 'The acquittal of Rabei Osman is also upheld.',\n",
       " '\"But I\\'ll tell you what,\" he added.',\n",
       " \"It can't make Fa rofit from what it's got already.\",\n",
       " 'The results were largely the same.']"
      ]
     },
     "execution_count": 7,
     "metadata": {},
     "output_type": "execute_result"
    }
   ],
   "source": [
    "print(\"The source is comprised of {:,} sentences. Here are the first 10.\".format(len(source_sentences)))\n",
    "source_sentences[:10]"
   ]
  },
  {
   "cell_type": "code",
   "execution_count": 8,
   "metadata": {},
   "outputs": [
    {
     "name": "stdout",
     "output_type": "stream",
     "text": [
      "The target is comprised of 4,319,687 sentences. Here are the first 10.\n"
     ]
    },
    {
     "data": {
      "text/plain": [
       "[\"The leading ladies that impacted on Sir David's life\",\n",
       " 'They resigned from the Party.',\n",
       " 'Everything he went for today went for six or four.',\n",
       " 'Hannon St., 1600 block, 4:33 p.m.',\n",
       " \"Because they're holy places.\",\n",
       " 'The next person would have the lighter,\" he says.',\n",
       " 'The acquittal of Rabei Osman is also upheld.',\n",
       " '\"But I\\'ll tell you what,\" he added.',\n",
       " \"It can't make a profit from what it's got already.\",\n",
       " 'The results were largely the same.']"
      ]
     },
     "execution_count": 8,
     "metadata": {},
     "output_type": "execute_result"
    }
   ],
   "source": [
    "print(\"The target is comprised of {:,} sentences. Here are the first 10.\".format(len(target_sentences)))\n",
    "target_sentences[:10]"
   ]
  },
  {
   "cell_type": "markdown",
   "metadata": {},
   "source": [
    "## <font color='red'>Only run this cell to get the tiny data set</font>\n",
    "**Start here if you are going to run with the small dataset** If you are using the big dataset, make sure to skip this."
   ]
  },
  {
   "cell_type": "code",
   "execution_count": 12,
   "metadata": {
    "scrolled": false
   },
   "outputs": [
    {
     "name": "stdout",
     "output_type": "stream",
     "text": [
      "Source: ['bsaqq', 'npy', 'lbwuj', 'bqv', 'kial', 'tddam', 'edxpjpg', 'nspv', 'huloz', 'kmclq']\n",
      "Target: ['abqqs', 'npy', 'bjluw', 'bqv', 'aikl', 'addmt', 'degjppx', 'npsv', 'hlouz', 'cklmq']\n",
      "\n",
      "The source is comprised of 10,000 sentences.\n"
     ]
    }
   ],
   "source": [
    "# Run this cell to grab the small data sets that came with this model. Otherwise skip it.\n",
    "# The dataset lives in the /data/ folder. At the moment, it is made up of the following files:\n",
    "# letters_source.txt: The list of input letter sequences. Each sequence is its own line. \n",
    "# letters_target.txt: The list of target sequences we'll use in the training process.\n",
    "# Each sequence here is a response to the input sequence in letters_source.txt with the same line number.\n",
    "\n",
    "def load_small_data():\n",
    "    \n",
    "    import helper\n",
    "\n",
    "    source_path = 'data/letters_source.txt'\n",
    "    target_path = 'data/letters_target.txt'\n",
    "\n",
    "    source_sentences = helper.load_data(source_path).split('\\n') # added .split('\\n) to be consistent with big data\n",
    "    target_sentences = helper.load_data(target_path).split('\\n')\n",
    "\n",
    "    # source_sentences contains the entire input sequence file as text delimited by newline symbols.\n",
    "    print(\"Source: {}\".format(source_sentences[:10]))\n",
    "    # target_sentences contains the entire output sequence file as text delimited by newline symbols.\n",
    "    # Each line corresponds to the line from source_sentences. target_sentences contains sorted characters of the line.\n",
    "    print(\"Target: {}\".format(target_sentences[:10]))\n",
    "\n",
    "    print(\"\\nThe source is comprised of {:,} sentences.\".format(len(source_sentences)))\n",
    "    \n",
    "    return source_sentences, target_sentences\n",
    "    \n",
    "source_sentences, target_sentences = load_small_data() # remove the comment to run loading small data"
   ]
  },
  {
   "cell_type": "markdown",
   "metadata": {},
   "source": [
    "## Preprocess\n",
    "To do anything useful with it, turn the each string into a list of characters. Then convert the characters to their int values as declared in the vocabulary."
   ]
  },
  {
   "cell_type": "code",
   "execution_count": 19,
   "metadata": {},
   "outputs": [
    {
     "name": "stdout",
     "output_type": "stream",
     "text": [
      "Source INT to letter: {0: '<PAD>', 1: '<UNK>', 2: '<GO>', 3: '<EOS>', 4: 'l', 5: 'p', 6: 'm', 7: 'x', 8: 'j', 9: 'n', 10: 's', 11: 'a', 12: 't', 13: 'd', 14: 'u', 15: 'r', 16: 'k', 17: 'q', 18: 'f', 19: 'g', 20: 'w', 21: 'h', 22: 'e', 23: 'v', 24: 'o', 25: 'b', 26: 'i', 27: 'y', 28: 'c', 29: 'z'}\n",
      "Target INT to letter: {0: '<PAD>', 1: '<UNK>', 2: '<GO>', 3: '<EOS>', 4: 'l', 5: 'p', 6: 'm', 7: 'x', 8: 'j', 9: 'n', 10: 's', 11: 'a', 12: 't', 13: 'd', 14: 'u', 15: 'r', 16: 'k', 17: 'q', 18: 'f', 19: 'g', 20: 'w', 21: 'h', 22: 'e', 23: 'v', 24: 'o', 25: 'b', 26: 'i', 27: 'y', 28: 'c', 29: 'z'}\n",
      "\n",
      "Wrote sourceinttoletter.json data to file.\n",
      "Wrote targetinttoletter.json data to file.\n",
      "Wrote sourcelettertoint.json data to file.\n",
      "Wrote targetlettertoint.json data to file.\n",
      "\n",
      "Example source sequences\n",
      "[[25, 10, 11, 17, 17], [9, 5, 27], [4, 25, 20, 14, 8]]\n",
      "\n",
      "Example target sequences\n",
      "[[11, 25, 17, 17, 10, 3], [9, 5, 27, 3], [25, 8, 4, 14, 20, 3]]\n"
     ]
    }
   ],
   "source": [
    "import json\n",
    "\n",
    "def extract_character_vocab(data):\n",
    "    special_words = ['<PAD>', '<UNK>', '<GO>',  '<EOS>']\n",
    "\n",
    "    #set_words = set([character for line in data.split('\\n') for character in line])\n",
    "    set_words = set([character for line in data for character in line])\n",
    "    int_to_vocab = {word_i: word for word_i, word in enumerate(special_words + list(set_words))}\n",
    "    vocab_to_int = {word: word_i for word_i, word in int_to_vocab.items()}\n",
    "\n",
    "    return int_to_vocab, vocab_to_int\n",
    "\n",
    "if (os.path.isfile(SOURCE_INT_TO_LETTER)):\n",
    "    \n",
    "    # Load up all of the conversion files\n",
    "    with open(SOURCE_INT_TO_LETTER, 'r') as file:\n",
    "        try:\n",
    "            source_int_to_letter = json.load(file)\n",
    "        except ValueError: # if the file is empty the ValueError will be thrown\n",
    "            data = {}\n",
    "    source_int_to_letter = {int(k):v for k,v in source_int_to_letter.items()}\n",
    "    with open(TARGET_INT_TO_LETTER, 'r') as file:\n",
    "        try:\n",
    "            target_int_to_letter = json.load(file)\n",
    "        except ValueError: # if the file is empty the ValueError will be thrown\n",
    "            data = {}\n",
    "    target_int_to_letter = {int(k):v for k,v in target_int_to_letter.items()}\n",
    "    with open(SOURCE_LETTER_TO_INT, 'r') as file:\n",
    "        try:\n",
    "            source_letter_to_int = json.load(file)\n",
    "        except ValueError: # if the file is empty the ValueError will be thrown\n",
    "            data = {}\n",
    "    source_letter_to_int = {k:int(v) for k,v in source_letter_to_int.items()}\n",
    "    with open(TARGET_LETTER_TO_INT, 'r') as file:\n",
    "        try:\n",
    "            target_letter_to_int = json.load(file)\n",
    "        except ValueError: # if the file is empty the ValueError will be thrown\n",
    "            data = {}\n",
    "    target_letter_to_int = {k:int(v) for k,v in target_letter_to_int.items()}\n",
    "    \n",
    "else:\n",
    "    \n",
    "    # Build int2letter and letter2int dicts\n",
    "    source_int_to_letter, source_letter_to_int = extract_character_vocab(source_sentences)\n",
    "    target_int_to_letter, target_letter_to_int = extract_character_vocab(target_sentences)\n",
    "    print(\"Source INT to letter: {}\".format(source_int_to_letter))\n",
    "    print(\"Target INT to letter: {}\\n\".format(target_int_to_letter))\n",
    "\n",
    "    # Save source_int_to_letter, target_int_to_letter & source_letter_to_int for loading later after graph is saved\n",
    "    with open(SOURCE_INT_TO_LETTER, 'w') as output_file:\n",
    "        json.dump(source_int_to_letter, output_file)\n",
    "    print(\"Wrote {} data to file.\".format(SOURCE_INT_TO_LETTER))\n",
    "    with open(TARGET_INT_TO_LETTER, 'w') as output_file:\n",
    "        json.dump(target_int_to_letter, output_file)\n",
    "    print(\"Wrote {} data to file.\".format(TARGET_INT_TO_LETTER))\n",
    "    with open(SOURCE_LETTER_TO_INT, 'w') as output_file:\n",
    "        json.dump(source_letter_to_int, output_file)\n",
    "    print(\"Wrote {} data to file.\".format(SOURCE_LETTER_TO_INT))\n",
    "    with open(TARGET_LETTER_TO_INT, 'w') as output_file:\n",
    "        json.dump(target_letter_to_int, output_file)\n",
    "    print(\"Wrote {} data to file.\".format(TARGET_LETTER_TO_INT))\n",
    "\n",
    "# Convert characters to ids\n",
    "source_letter_ids = [[source_letter_to_int.get(letter, source_letter_to_int['<UNK>']) for letter in line] for line in source_sentences]\n",
    "target_letter_ids = [[target_letter_to_int.get(letter, target_letter_to_int['<UNK>']) for letter in line] + [target_letter_to_int['<EOS>']] for line in target_sentences]\n",
    "\n",
    "print(\"\\nExample source sequences\")\n",
    "print(source_letter_ids[:3])\n",
    "print(\"\\nExample target sequences\")\n",
    "print(target_letter_ids[:3])"
   ]
  },
  {
   "cell_type": "code",
   "execution_count": 20,
   "metadata": {},
   "outputs": [
    {
     "name": "stdout",
     "output_type": "stream",
     "text": [
      "\n",
      "First 10 sentence:\n",
      "\n",
      "Source --> [25, 10, 11, 17, 17]\n",
      "Target --> [11, 25, 17, 17, 10, 3]\n",
      "\n",
      "Source --> [9, 5, 27]\n",
      "Target --> [9, 5, 27, 3]\n",
      "\n",
      "Source --> [4, 25, 20, 14, 8]\n",
      "Target --> [25, 8, 4, 14, 20, 3]\n",
      "\n",
      "Source --> [25, 17, 23]\n",
      "Target --> [25, 17, 23, 3]\n",
      "\n",
      "Source --> [16, 26, 11, 4]\n",
      "Target --> [11, 26, 16, 4, 3]\n",
      "\n",
      "Source --> [12, 13, 13, 11, 6]\n",
      "Target --> [11, 13, 13, 6, 12, 3]\n",
      "\n",
      "Source --> [22, 13, 7, 5, 8, 5, 19]\n",
      "Target --> [13, 22, 19, 8, 5, 5, 7, 3]\n",
      "\n",
      "Source --> [9, 10, 5, 23]\n",
      "Target --> [9, 5, 10, 23, 3]\n",
      "\n",
      "Source --> [21, 14, 4, 24, 29]\n",
      "Target --> [21, 4, 24, 14, 29, 3]\n",
      "\n",
      "Source --> [16, 6, 28, 4, 17]\n",
      "Target --> [28, 16, 4, 6, 17, 3]\n"
     ]
    }
   ],
   "source": [
    "print('\\nFirst 10 sentence:')\n",
    "for i in range (0, 10):\n",
    "    print(\"\\nSource --> {}\".format(source_letter_ids[i]))\n",
    "    print(\"Target --> {}\".format(target_letter_ids[i]))"
   ]
  },
  {
   "cell_type": "markdown",
   "metadata": {},
   "source": [
    "## Character Sequence to Sequence Model\n",
    "This model was updated to work with TensorFlow 1.1 and builds on the work of Dave Currie. Check out Dave's post [Text Summarization with Amazon Reviews](https://medium.com/towards-data-science/text-summarization-with-amazon-reviews-41801c2210b).\n",
    "<img src=\"images/sequence-to-sequence.jpg\"/>\n",
    "#### Check the Version of TensorFlow and wether or not there's a GPU"
   ]
  },
  {
   "cell_type": "code",
   "execution_count": 21,
   "metadata": {},
   "outputs": [
    {
     "name": "stdout",
     "output_type": "stream",
     "text": [
      "TensorFlow Version: 1.3.0\n",
      "Default GPU Device: /gpu:0\n"
     ]
    }
   ],
   "source": [
    "import tensorflow as tf\n",
    "\n",
    "# Check TensorFlow Version\n",
    "print('TensorFlow Version: {}'.format(tf.__version__))\n",
    "\n",
    "# Check for a GPU\n",
    "if not tf.test.gpu_device_name():\n",
    "    print('No GPU found. Please use a GPU to train your neural network.')\n",
    "else:\n",
    "    print('Default GPU Device: {}'.format(tf.test.gpu_device_name()))"
   ]
  },
  {
   "cell_type": "markdown",
   "metadata": {},
   "source": [
    "### Hyperparameters"
   ]
  },
  {
   "cell_type": "code",
   "execution_count": 91,
   "metadata": {},
   "outputs": [
    {
     "name": "stdout",
     "output_type": "stream",
     "text": [
      "Using hyperparameters for the small data with 10,000 source sentences.\n"
     ]
    }
   ],
   "source": [
    "if (len(source_sentences) > 10000):\n",
    "    \n",
    "    # We are using the big data\n",
    "    print(\"Using hyperparameters for the big data with {:,} source sentences.\".format(len(source_sentences)))\n",
    "    epochs = 1       # Number of Epochs\n",
    "    batch_size = 128 # Batch Size\n",
    "\n",
    "    rnn_size = 512   # RNN Size\n",
    "    num_layers = 2   # Number of Layers\n",
    "    encoding_embedding_size = 256 # Encoding embedding Size\n",
    "    decoding_embedding_size = 256 # Decoding embedding Size\n",
    "    keep_probability = 0.7 # keep probability\n",
    "\n",
    "    learning_rate = 0.001 # Learning Rate\n",
    "    \n",
    "else:\n",
    "    \n",
    "    # We are using the small data\n",
    "    print(\"Using hyperparameters for the small data with {:,} source sentences.\".format(len(source_sentences)))\n",
    "    epochs = 5 # Number of Epochs (normally 60 but reduced to test retraining model)\n",
    "    batch_size = 128 # Batch Size\n",
    "    rnn_size = 50 # RNN Size    \n",
    "    num_layers = 2 # Number of Layers    \n",
    "    encoding_embedding_size = 15 # Embedding Size\n",
    "    decoding_embedding_size = 15 # Embedding Size\n",
    "    keep_probability = 0.7 # keep probability\n",
    "    learning_rate = 0.001 # Learning Rate\n",
    "    \n",
    "# Write batch_size to file for loading after graph has been saved\n",
    "with open(GRAPH_PARAMETERS, 'w') as file:\n",
    "  file.write('%d' % batch_size)"
   ]
  },
  {
   "cell_type": "markdown",
   "metadata": {},
   "source": [
    "### Input"
   ]
  },
  {
   "cell_type": "code",
   "execution_count": 23,
   "metadata": {
    "collapsed": true
   },
   "outputs": [],
   "source": [
    "def get_model_inputs():\n",
    "    input_data = tf.placeholder(tf.int32, [None, None], name='input')\n",
    "    targets = tf.placeholder(tf.int32, [None, None], name='targets')\n",
    "    keep_probability = tf.placeholder(tf.float32,name='keep_prob')\n",
    "    lr = tf.placeholder(tf.float32, name='learning_rate')\n",
    "\n",
    "    target_sequence_length = tf.placeholder(tf.int32, (None,), name='target_sequence_length')\n",
    "    max_target_sequence_length = tf.reduce_max(target_sequence_length, name='max_target_len')\n",
    "    source_sequence_length = tf.placeholder(tf.int32, (None,), name='source_sequence_length')\n",
    "    \n",
    "    return input_data, targets, keep_probability, lr, target_sequence_length, max_target_sequence_length, source_sequence_length"
   ]
  },
  {
   "cell_type": "markdown",
   "metadata": {},
   "source": [
    "### Sequence to Sequence Model\n",
    "\n",
    "We can now start defining the functions that will build the seq2seq model. We are building it from the bottom up with the following components:\n",
    "\n",
    "    2.1 Encoder\n",
    "        - Embedding\n",
    "        - Encoder cell\n",
    "    2.2 Decoder\n",
    "        1- Process decoder inputs\n",
    "        2- Set up the decoder\n",
    "            - Embedding\n",
    "            - Decoder cell\n",
    "            - Dense output layer\n",
    "            - Training decoder\n",
    "            - Inference decoder\n",
    "    2.3 Seq2seq model connecting the encoder and decoder\n",
    "    2.4 Build the training graph hooking up the model with the \n",
    "        optimizer\n",
    "\n"
   ]
  },
  {
   "cell_type": "markdown",
   "metadata": {},
   "source": [
    "### 2.1 Encoder\n",
    "\n",
    "The first bit of the model we'll build is the encoder. Here, we'll embed the input data, construct our encoder, then pass the embedded data to the encoder.\n",
    "\n",
    "- Embed the input data using [`tf.contrib.layers.embed_sequence`](https://www.tensorflow.org/api_docs/python/tf/contrib/layers/embed_sequence)\n",
    "<img src=\"images/embed_sequence.png\" />\n",
    "\n",
    "- Pass the embedded input into a stack of RNNs.  Save the RNN state and ignore the output.\n",
    "<img src=\"images/encoder.png\" />"
   ]
  },
  {
   "cell_type": "code",
   "execution_count": 24,
   "metadata": {
    "collapsed": true,
    "scrolled": true
   },
   "outputs": [],
   "source": [
    "def encoding_layer(input_data, rnn_size, num_layers, keep_prob, source_sequence_length, source_vocab_size, \n",
    "                   encoding_embedding_size):\n",
    "\n",
    "    # Encoder embedding\n",
    "    enc_embed_input = tf.contrib.layers.embed_sequence(input_data, source_vocab_size, encoding_embedding_size)\n",
    "\n",
    "    # RNN cell\n",
    "    def make_cell(rnn_size):\n",
    "        enc_cell = tf.contrib.rnn.LSTMCell(rnn_size, initializer=tf.random_uniform_initializer(-0.1, 0.1, seed=2))\n",
    "        enc_cell = tf.contrib.rnn.DropoutWrapper(enc_cell, output_keep_prob=keep_prob)\n",
    "        return enc_cell\n",
    "\n",
    "    enc_cell = tf.contrib.rnn.MultiRNNCell([make_cell(rnn_size) for _ in range(num_layers)])\n",
    "    \n",
    "    enc_output, enc_state = tf.nn.dynamic_rnn(enc_cell, enc_embed_input, \n",
    "                                              sequence_length=source_sequence_length, dtype=tf.float32)\n",
    "    \n",
    "    return enc_output, enc_state"
   ]
  },
  {
   "cell_type": "markdown",
   "metadata": {},
   "source": [
    "## 2.2 Decoder\n",
    "\n",
    "The decoder is probably the most involved part of this model. The following steps are needed to create it:\n",
    "\n",
    "    1- Process decoder inputs\n",
    "    2- Set up the decoder components\n",
    "        - Embedding\n",
    "        - Decoder cell\n",
    "        - Dense output layer\n",
    "        - Training decoder\n",
    "        - Inference decoder\n",
    "\n",
    "\n",
    "### Process Decoder Input\n",
    "\n",
    "\n",
    "In the training process, the target sequences will be used in two different places:\n",
    "\n",
    " 1. Using them to calculate the loss\n",
    " 2. Feeding them to the decoder during training to make the model more robust.\n",
    "\n",
    "Now we need to address the second point. Let's assume our targets look like this in their letter/word form (we're doing this for readibility. At this point in the code, these sequences would be in int form):\n",
    "\n",
    "\n",
    "<img src=\"images/targets_1.png\"/>\n",
    "\n",
    "We need to do a simple transformation on the tensor before feeding it to the decoder:\n",
    "\n",
    "1- We will feed an item of the sequence to the decoder at each time step. Think about the last timestep -- where the decoder outputs the final word in its output. The input to that step is the item before last from the target sequence. The decoder has no use for the last item in the target sequence in this scenario. So we'll need to remove the last item. \n",
    "\n",
    "We do that using tensorflow's tf.strided_slice() method. We hand it the tensor, and the index of where to start and where to end the cutting.\n",
    "\n",
    "<img src=\"images/strided_slice_1.png\"/>\n",
    "\n",
    "2- The first item in each sequence we feed to the decoder has to be GO symbol. So We'll add that to the beginning.\n",
    "\n",
    "\n",
    "<img src=\"images/targets_add_go.png\"/>\n",
    "\n",
    "\n",
    "Now the tensor is ready to be fed to the decoder. It looks like this (if we convert from ints to letters/symbols):\n",
    "\n",
    "<img src=\"images/targets_after_processing_1.png\"/>"
   ]
  },
  {
   "cell_type": "code",
   "execution_count": 25,
   "metadata": {
    "collapsed": true
   },
   "outputs": [],
   "source": [
    "# Process the input we'll feed to the decoder\n",
    "def process_decoder_input(target_data, vocab_to_int, batch_size):\n",
    "    '''Remove the last word id from each batch and concat the <GO> to the begining of each batch'''\n",
    "    ending = tf.strided_slice(target_data, [0, 0], [batch_size, -1], [1, 1])\n",
    "    dec_input = tf.concat([tf.fill([batch_size, 1], vocab_to_int['<GO>']), ending], 1)\n",
    "\n",
    "    return dec_input"
   ]
  },
  {
   "cell_type": "markdown",
   "metadata": {},
   "source": [
    "\n",
    "### Set up the decoder components\n",
    "\n",
    "        - Embedding\n",
    "        - Decoder cell\n",
    "        - Dense output layer\n",
    "        - Training decoder\n",
    "        - Inference decoder\n",
    "\n",
    "#### 1- Embedding\n",
    "Now that we have prepared the inputs to the training decoder, we need to embed them so they can be ready to be passed to the decoder. \n",
    "\n",
    "We'll create an embedding matrix like the following then have tf.nn.embedding_lookup convert our input to its embedded equivalent:\n",
    "<img src=\"images/embeddings.png\" />\n",
    "\n",
    "#### 2- Decoder Cell\n",
    "Then we declare our decoder cell. Just like the encoder, we'll use an tf.contrib.rnn.LSTMCell here as well.\n",
    "\n",
    "We need to declare a decoder for the training process, and a decoder for the inference/prediction process. These two decoders will share their parameters (so that all the weights and biases that are set during the training phase can be used when we deploy the model).\n",
    "\n",
    "First, we'll need to define the type of cell we'll be using for our decoder RNNs. We opted for LSTM.\n",
    "\n",
    "#### 3- Dense output layer\n",
    "Before we move to declaring our decoders, we'll need to create the output layer, which will be a tensorflow.python.layers.core.Dense layer that translates the outputs of the decoder to logits that tell us which element of the decoder vocabulary the decoder is choosing to output at each time step.\n",
    "\n",
    "#### 4- Training decoder\n",
    "Essentially, we'll be creating two decoders which share their parameters. One for training and one for inference. The two are similar in that both created using tf.contrib.seq2seq.**BasicDecoder** and tf.contrib.seq2seq.**dynamic_decode**. They differ, however, in that we feed the the target sequences as inputs to the training decoder at each time step to make it more robust.\n",
    "\n",
    "We can think of the training decoder as looking like this (except that it works with sequences in batches):\n",
    "<img src=\"images/sequence-to-sequence-training-decoder.png\"/>\n",
    "\n",
    "The training decoder **does not** feed the output of each time step to the next. Rather, the inputs to the decoder time steps are the target sequence from the training dataset (the orange letters).\n",
    "\n",
    "#### 5- Inference decoder\n",
    "The inference decoder is the one we'll use when we deploy our model to the wild.\n",
    "\n",
    "<img src=\"images/sequence-to-sequence-inference-decoder.png\"/>\n",
    "\n",
    "We'll hand our encoder hidden state to both the training and inference decoders and have it process its output. TensorFlow handles most of the logic for us. We just have to use the appropriate methods from tf.contrib.seq2seq and supply them with the appropriate inputs.\n"
   ]
  },
  {
   "cell_type": "code",
   "execution_count": 26,
   "metadata": {
    "collapsed": true
   },
   "outputs": [],
   "source": [
    "def decoding_layer(target_letter_to_int, decoding_embedding_size, num_layers, rnn_size, keep_prob,\n",
    "                   target_sequence_length, max_target_sequence_length, enc_state, dec_input):\n",
    "    \n",
    "    # 1. Decoder Embedding\n",
    "    target_vocab_size = len(target_letter_to_int)\n",
    "    dec_embeddings = tf.Variable(tf.random_uniform([target_vocab_size, decoding_embedding_size]))\n",
    "    dec_embed_input = tf.nn.embedding_lookup(dec_embeddings, dec_input)\n",
    "\n",
    "    # 2. Construct the decoder cell\n",
    "    def make_cell(rnn_size):\n",
    "        dec_cell = tf.contrib.rnn.LSTMCell(rnn_size,\n",
    "                                           initializer=tf.random_uniform_initializer(-0.1, 0.1, seed=2))\n",
    "        dec_cell = tf.contrib.rnn.DropoutWrapper(dec_cell, output_keep_prob=keep_prob)\n",
    "        return dec_cell\n",
    "\n",
    "    dec_cell = tf.contrib.rnn.MultiRNNCell([make_cell(rnn_size) for _ in range(num_layers)])\n",
    "     \n",
    "    # 3. Dense layer to translate the decoder's output at each time \n",
    "    # step into a choice from the target vocabulary\n",
    "    output_layer = Dense(target_vocab_size,\n",
    "                         kernel_initializer = tf.truncated_normal_initializer(mean = 0.0, stddev=0.1))\n",
    "\n",
    "    # 4. Set up a training decoder and an inference decoder\n",
    "    # Training Decoder\n",
    "    with tf.variable_scope(\"decode\"):\n",
    "\n",
    "        # Helper for the training process. Used by BasicDecoder to read inputs.\n",
    "        training_helper = tf.contrib.seq2seq.TrainingHelper(inputs=dec_embed_input,\n",
    "                                                            sequence_length=target_sequence_length,\n",
    "                                                            time_major=False)\n",
    "\n",
    "        # Basic decoder\n",
    "        training_decoder = tf.contrib.seq2seq.BasicDecoder(dec_cell,\n",
    "                                                           training_helper,\n",
    "                                                           enc_state,\n",
    "                                                           output_layer) \n",
    "        \n",
    "        # Perform dynamic decoding using the decoder\n",
    "        training_decoder_output = tf.contrib.seq2seq.dynamic_decode(training_decoder, impute_finished=True, \n",
    "                                                                    maximum_iterations=max_target_sequence_length)[0]\n",
    "\n",
    "    # 5. Inference Decoder\n",
    "    # Reuses the same parameters trained by the training process\n",
    "    with tf.variable_scope(\"decode\", reuse=True):\n",
    "        start_tokens = tf.tile(tf.constant([target_letter_to_int['<GO>']], dtype=tf.int32), \n",
    "                               [batch_size], name='start_tokens')\n",
    "\n",
    "        # Helper for the inference process.\n",
    "        inference_helper = tf.contrib.seq2seq.GreedyEmbeddingHelper(dec_embeddings,\n",
    "                                                                start_tokens,\n",
    "                                                                target_letter_to_int['<EOS>'])\n",
    "\n",
    "        # Basic decoder\n",
    "        inference_decoder = tf.contrib.seq2seq.BasicDecoder(dec_cell,\n",
    "                                                        inference_helper,\n",
    "                                                        enc_state,\n",
    "                                                        output_layer)\n",
    "        \n",
    "        # Perform dynamic decoding using the decoder\n",
    "        inference_decoder_output = tf.contrib.seq2seq.dynamic_decode(inference_decoder,\n",
    "                                                            impute_finished=True,\n",
    "                                                            maximum_iterations=max_target_sequence_length)[0]\n",
    "\n",
    "    return training_decoder_output, inference_decoder_output"
   ]
  },
  {
   "cell_type": "markdown",
   "metadata": {},
   "source": [
    "## 2.3 Seq2seq model \n",
    "Let's now go a step above, and hook up the encoder and decoder using the methods we just declared"
   ]
  },
  {
   "cell_type": "code",
   "execution_count": 27,
   "metadata": {
    "collapsed": true
   },
   "outputs": [],
   "source": [
    "def seq2seq_model(input_data, targets, lr, target_sequence_length, max_target_sequence_length, source_sequence_length,\n",
    "                  source_vocab_size, target_vocab_size, enc_embedding_size, dec_embedding_size, rnn_size, num_layers, \n",
    "                  keep_prob):\n",
    "    \n",
    "    # Pass the input data through the encoder. We'll ignore the encoder output, but use the state\n",
    "    _, enc_state = encoding_layer(input_data, \n",
    "                                  rnn_size, \n",
    "                                  num_layers,\n",
    "                                  keep_prob,\n",
    "                                  source_sequence_length,\n",
    "                                  source_vocab_size, \n",
    "                                  encoding_embedding_size)\n",
    "\n",
    "    # Prepare the target sequences we'll feed to the decoder in training mode\n",
    "    dec_input = process_decoder_input(targets, target_letter_to_int, batch_size)\n",
    "    \n",
    "    # Pass encoder state and decoder inputs to the decoders\n",
    "    training_decoder_output, inference_decoder_output = decoding_layer(target_letter_to_int, \n",
    "                                                                       decoding_embedding_size, \n",
    "                                                                       num_layers, \n",
    "                                                                       rnn_size,\n",
    "                                                                       keep_prob,\n",
    "                                                                       target_sequence_length,\n",
    "                                                                       max_target_sequence_length,\n",
    "                                                                       enc_state, \n",
    "                                                                       dec_input) \n",
    "    \n",
    "    return training_decoder_output, inference_decoder_output"
   ]
  },
  {
   "cell_type": "markdown",
   "metadata": {},
   "source": [
    "Model outputs *training_decoder_output* and *inference_decoder_output* both contain a 'rnn_output' logits tensor that looks like this:\n",
    "\n",
    "<img src=\"images/logits.png\"/>\n",
    "\n",
    "The logits we get from the training tensor we'll pass to tf.contrib.seq2seq.**sequence_loss()** to calculate the loss and ultimately the gradient.\n",
    "\n",
    "\n"
   ]
  },
  {
   "cell_type": "code",
   "execution_count": 95,
   "metadata": {},
   "outputs": [],
   "source": [
    "from tensorflow.python.layers.core import Dense\n",
    "\n",
    "# Build the graph\n",
    "train_graph = tf.Graph()\n",
    "# Set the graph to default to ensure that it is ready for training\n",
    "with train_graph.as_default():\n",
    "    \n",
    "    # Load the model inputs    \n",
    "    input_data, targets, keep_prob, lr, target_sequence_length, max_target_sequence_length, source_sequence_length \\\n",
    "    = get_model_inputs()\n",
    "    \n",
    "    # Create the training and inference logits\n",
    "    training_decoder_output, inference_decoder_output = seq2seq_model(input_data, \n",
    "                                                                      targets, \n",
    "                                                                      lr, \n",
    "                                                                      target_sequence_length, \n",
    "                                                                      max_target_sequence_length, \n",
    "                                                                      source_sequence_length,\n",
    "                                                                      len(source_letter_to_int),\n",
    "                                                                      len(target_letter_to_int),\n",
    "                                                                      encoding_embedding_size, \n",
    "                                                                      decoding_embedding_size, \n",
    "                                                                      rnn_size, \n",
    "                                                                      num_layers,\n",
    "                                                                      keep_prob)    \n",
    "    \n",
    "    # Create tensors for the training logits and inference logits\n",
    "    training_logits = tf.identity(training_decoder_output.rnn_output, 'logits')\n",
    "    inference_logits = tf.identity(inference_decoder_output.sample_id, name='predictions')\n",
    "    \n",
    "    # Create the weights for sequence_loss\n",
    "    masks = tf.sequence_mask(target_sequence_length, max_target_sequence_length, dtype=tf.float32, name='masks')\n",
    "\n",
    "    with tf.name_scope(\"optimization\"):\n",
    "        \n",
    "        # Loss function\n",
    "        cost = tf.contrib.seq2seq.sequence_loss(training_logits, targets, masks)\n",
    "\n",
    "        # Optimizer\n",
    "        optimizer = tf.train.AdamOptimizer(lr)\n",
    "\n",
    "        # Gradient Clipping\n",
    "        gradients = optimizer.compute_gradients(cost)\n",
    "        capped_gradients = [(tf.clip_by_value(grad, -5., 5.), var) for grad, var in gradients if grad is not None]\n",
    "        train_op = optimizer.apply_gradients(capped_gradients)\n",
    "        \n",
    "        # Add variables to collection in order to load them up when retraining a saved graph\n",
    "        tf.add_to_collection(\"cost\", cost)\n",
    "        tf.add_to_collection(\"train_op\", train_op)"
   ]
  },
  {
   "cell_type": "markdown",
   "metadata": {},
   "source": [
    "## Get Batches\n",
    "\n",
    "There's little processing involved when we retreive the batches. This is a simple example assuming batch_size = 2\n",
    "\n",
    "Source sequences (it's actually in int form, we're showing the characters for clarity):\n",
    "\n",
    "<img src=\"images/source_batch.png\" />\n",
    "\n",
    "Target sequences (also in int, but showing letters for clarity):\n",
    "\n",
    "<img src=\"images/target_batch.png\" />"
   ]
  },
  {
   "cell_type": "code",
   "execution_count": 29,
   "metadata": {
    "collapsed": true
   },
   "outputs": [],
   "source": [
    "def pad_sentence_batch(sentence_batch, pad_int):\n",
    "    \"\"\"Pad sentences with <PAD> so that each sentence of a batch has the same length\"\"\"\n",
    "    max_sentence = max([len(sentence) for sentence in sentence_batch])\n",
    "    return [sentence + [pad_int] * (max_sentence - len(sentence)) for sentence in sentence_batch]"
   ]
  },
  {
   "cell_type": "code",
   "execution_count": 30,
   "metadata": {
    "collapsed": true
   },
   "outputs": [],
   "source": [
    "import numpy as np\n",
    "\n",
    "def get_batches(targets, sources, batch_size, source_pad_int, target_pad_int):\n",
    "    \"\"\"Batch targets, sources, and the lengths of their sentences together\"\"\"\n",
    "    for batch_i in range(0, len(sources)//batch_size):\n",
    "        start_i = batch_i * batch_size\n",
    "        sources_batch = sources[start_i:start_i + batch_size]\n",
    "        targets_batch = targets[start_i:start_i + batch_size]\n",
    "        pad_sources_batch = np.array(pad_sentence_batch(sources_batch, source_pad_int))\n",
    "        pad_targets_batch = np.array(pad_sentence_batch(targets_batch, target_pad_int))\n",
    "        \n",
    "        # Need the lengths for the _lengths parameters\n",
    "        pad_targets_lengths = []\n",
    "        for target in pad_targets_batch:\n",
    "            pad_targets_lengths.append(len(target))\n",
    "        \n",
    "        pad_source_lengths = []\n",
    "        for source in pad_sources_batch:\n",
    "            pad_source_lengths.append(len(source))\n",
    "        \n",
    "        yield pad_targets_batch, pad_sources_batch, pad_targets_lengths, pad_source_lengths"
   ]
  },
  {
   "cell_type": "markdown",
   "metadata": {},
   "source": [
    "## Train\n",
    "We're now ready to train our model. If you run into OOM (out of memory) issues during training, try to decrease the batch_size."
   ]
  },
  {
   "cell_type": "code",
   "execution_count": 110,
   "metadata": {
    "scrolled": true
   },
   "outputs": [
    {
     "name": "stdout",
     "output_type": "stream",
     "text": [
      "Reloading existing graph to continue training.\n",
      "INFO:tensorflow:Restoring parameters from ./best_model.ckpt\n",
      "Epoch   1/5 Batch     20/77 Inputs (000)       2 - Loss:  0.199  - Validation loss:  0.117\n",
      "Epoch   1/5 Batch     40/77 Inputs (000)       5 - Loss:  0.180  - Validation loss:  0.114\n",
      "Epoch   1/5 Batch     60/77 Inputs (000)       7 - Loss:  0.196  - Validation loss:  0.108\n",
      "Epoch   2/5 Batch     20/77 Inputs (000)      12 - Loss:  0.185  - Validation loss:  0.107\n",
      "Epoch   2/5 Batch     40/77 Inputs (000)      14 - Loss:  0.193  - Validation loss:  0.106\n",
      "Epoch   2/5 Batch     60/77 Inputs (000)      17 - Loss:  0.199  - Validation loss:  0.105\n",
      "Epoch   3/5 Batch     20/77 Inputs (000)      22 - Loss:  0.174  - Validation loss:  0.099\n",
      "Epoch   3/5 Batch     40/77 Inputs (000)      24 - Loss:  0.176  - Validation loss:  0.106\n",
      "Epoch   3/5 Batch     60/77 Inputs (000)      27 - Loss:  0.180  - Validation loss:  0.099\n",
      "Epoch   4/5 Batch     20/77 Inputs (000)      32 - Loss:  0.170  - Validation loss:  0.096\n",
      "Epoch   4/5 Batch     40/77 Inputs (000)      34 - Loss:  0.180  - Validation loss:  0.103\n",
      "Epoch   4/5 Batch     60/77 Inputs (000)      37 - Loss:  0.182  - Validation loss:  0.097\n",
      "Epoch   5/5 Batch     20/77 Inputs (000)      42 - Loss:  0.150  - Validation loss:  0.090\n",
      "Epoch   5/5 Batch     40/77 Inputs (000)      44 - Loss:  0.175  - Validation loss:  0.090\n",
      "Epoch   5/5 Batch     60/77 Inputs (000)      47 - Loss:  0.160  - Validation loss:  0.087\n",
      "Model Trained in 0h:0m:20s and Saved\n"
     ]
    }
   ],
   "source": [
    "import time\n",
    "\n",
    "# Split data to training and validation sets\n",
    "train_source = source_letter_ids[batch_size:]\n",
    "train_target = target_letter_ids[batch_size:]\n",
    "valid_source = source_letter_ids[:batch_size]\n",
    "valid_target = target_letter_ids[:batch_size]\n",
    "(valid_targets_batch, valid_sources_batch, valid_targets_lengths, valid_sources_lengths) \\\n",
    "= next(get_batches(valid_target, \n",
    "                   valid_source, batch_size, source_letter_to_int['<PAD>'], \n",
    "                   target_letter_to_int['<PAD>']))\n",
    "\n",
    "if (len(source_sentences) > 10000):\n",
    "    display_step = 100 # Check training loss after each of this many batches with large data\n",
    "else:\n",
    "    display_step = 20 # Check training loss after each of this many batches with small data\n",
    "\n",
    "# Test to see if graph already exists\n",
    "if os.path.exists(checkpoint + \".meta\"):\n",
    "    print(\"Reloading existing graph to continue training.\")\n",
    "    reloading = True    \n",
    "    train_graph = tf.Graph()\n",
    "else:\n",
    "    print(\"Starting with new graph.\")\n",
    "    reloading = False\n",
    "    with train_graph.as_default():\n",
    "        saver = tf.train.Saver()\n",
    "\n",
    "with tf.Session(graph=train_graph) as sess:    \n",
    "    start = time.time()\n",
    "    if reloading:\n",
    "        saver = tf.train.import_meta_graph(checkpoint + '.meta')\n",
    "        saver.restore(sess, checkpoint) \n",
    "        \n",
    "        # Restore variables\n",
    "        input_data = train_graph.get_tensor_by_name('input:0')\n",
    "        targets = train_graph.get_tensor_by_name('targets:0')\n",
    "        lr = train_graph.get_tensor_by_name('learning_rate:0')\n",
    "        source_sequence_length = train_graph.get_tensor_by_name('source_sequence_length:0')\n",
    "        target_sequence_length = train_graph.get_tensor_by_name('target_sequence_length:0')\n",
    "        keep_prob = train_graph.get_tensor_by_name('keep_prob:0')\n",
    "        \n",
    "        # Grab the optimizer variables that were added to the collection during build\n",
    "        cost = tf.get_collection(\"cost\")[0]\n",
    "        train_op = tf.get_collection(\"train_op\")[0]\n",
    "    else:\n",
    "        sess.run(tf.global_variables_initializer())\n",
    "        \n",
    "    for epoch_i in range(1, epochs+1):\n",
    "        for batch_i, (targets_batch, sources_batch, targets_lengths, sources_lengths) in enumerate(\n",
    "                get_batches(train_target, train_source, batch_size,\n",
    "                           source_letter_to_int['<PAD>'],\n",
    "                           target_letter_to_int['<PAD>'])):\n",
    "            \n",
    "            # Training step\n",
    "            _, loss = sess.run(\n",
    "                [train_op, cost],\n",
    "                {input_data: sources_batch,\n",
    "                 targets: targets_batch,\n",
    "                 lr: learning_rate,\n",
    "                 target_sequence_length: targets_lengths,\n",
    "                 source_sequence_length: sources_lengths,\n",
    "                 keep_prob: keep_probability})\n",
    "\n",
    "            # Debug message updating us on the status of the training\n",
    "            if batch_i % display_step == 0 and batch_i > 0:\n",
    "                \n",
    "                # Calculate validation cost\n",
    "                validation_loss = sess.run(\n",
    "                [cost],\n",
    "                {input_data: valid_sources_batch,\n",
    "                 targets: valid_targets_batch,\n",
    "                 lr: learning_rate,\n",
    "                 target_sequence_length: valid_targets_lengths,\n",
    "                 source_sequence_length: valid_sources_lengths,\n",
    "                 keep_prob: 1.0})\n",
    "                \n",
    "                print('Epoch {:>3}/{} Batch {:>6}/{} Inputs (000) {:>7} - Loss: {:>6.3f}  - Validation loss: {:>6.3f}'\n",
    "                      .format(epoch_i, epochs, batch_i, len(train_source) // batch_size, \n",
    "                              (((epoch_i - 1) * len(train_source)) + batch_i * batch_size) // 1000, \n",
    "                              loss, validation_loss[0]))\n",
    "\n",
    "    # Save model\n",
    "    saver.save(sess, checkpoint)\n",
    "    \n",
    "    # Print time spent training the model\n",
    "    end = time.time()\n",
    "    seconds = end - start\n",
    "    m, s = divmod(seconds, 60)\n",
    "    h, m = divmod(m, 60)\n",
    "    print('Model Trained in {}h:{}m:{}s and Saved'.format(int(h), int(m), int(s)))"
   ]
  },
  {
   "cell_type": "markdown",
   "metadata": {},
   "source": [
    "## Prediction\n",
    "**Start here to use a saved and pre-trained graph.** Load the saved graph and compute some preditions."
   ]
  },
  {
   "cell_type": "code",
   "execution_count": 107,
   "metadata": {
    "collapsed": true
   },
   "outputs": [],
   "source": [
    "import json\n",
    "\n",
    "# Load source_letter_to_int from file:\n",
    "with open(SOURCE_LETTER_TO_INT, 'r') as file:\n",
    "    try:\n",
    "        source_letter_to_int = json.load(file)\n",
    "    except ValueError: # if the file is empty the ValueError will be thrown\n",
    "        data = {}\n",
    "source_letter_to_int = {k:int(v) for k,v in source_letter_to_int.items()}\n",
    "\n",
    "def source_to_seq(text):\n",
    "    '''Prepare the text for the model'''\n",
    "    sequence_length = 7\n",
    "    return [source_letter_to_int.get(word, source_letter_to_int['<UNK>']) for word in text]+ [source_letter_to_int['<PAD>']]*(sequence_length-len(text))"
   ]
  },
  {
   "cell_type": "code",
   "execution_count": 108,
   "metadata": {},
   "outputs": [
    {
     "name": "stdout",
     "output_type": "stream",
     "text": [
      "Loaded batch_size = 128\n",
      "INFO:tensorflow:Restoring parameters from ./best_model.ckpt\n",
      "Original Text: hello\n",
      "\n",
      "Source\n",
      "  Word Ids:    [21, 22, 4, 4, 24, 0, 0]\n",
      "  Input Words: h e l l o <PAD> <PAD>\n",
      "\n",
      "Target\n",
      "  Word Ids:       [22, 21, 4, 4, 24, 3]\n",
      "  Response Words: e h l l o <EOS>\n"
     ]
    }
   ],
   "source": [
    "import tensorflow as tf\n",
    "\n",
    "# input_sentence = 'he had dated forI much of the past'\n",
    "input_sentence = 'hello'\n",
    "text = source_to_seq(input_sentence)\n",
    "\n",
    "# Load source_int_to_letter and target_int_to_letter from files:\n",
    "with open(SOURCE_INT_TO_LETTER, 'r') as file:\n",
    "    try:\n",
    "        source_int_to_letter = json.load(file)\n",
    "    except ValueError: # if the file is empty the ValueError will be thrown\n",
    "        data = {}\n",
    "source_int_to_letter = {int(k):v for k,v in source_int_to_letter.items()}\n",
    "with open(TARGET_INT_TO_LETTER, 'r') as file:\n",
    "    try:\n",
    "        target_int_to_letter = json.load(file)\n",
    "    except ValueError: # if the file is empty the ValueError will be thrown\n",
    "        data = {}\n",
    "target_int_to_letter = {int(k):v for k,v in target_int_to_letter.items()}\n",
    "\n",
    "# Read batch_size from file\n",
    "with open(GRAPH_PARAMETERS, 'r') as file:\n",
    "    try:\n",
    "        batch_size = int(file.read())\n",
    "        print(\"Loaded batch_size = {}\".format(batch_size))\n",
    "    except ValueError:\n",
    "        batch_size = 128\n",
    "        print(\"Unable to load batch_size from file so using default 128.\")\n",
    "\n",
    "loaded_graph = tf.Graph()\n",
    "with tf.Session(graph=loaded_graph) as sess:\n",
    "    # Load saved model\n",
    "    loader = tf.train.import_meta_graph(checkpoint + '.meta')\n",
    "    loader.restore(sess, checkpoint)\n",
    "\n",
    "    input_data = loaded_graph.get_tensor_by_name('input:0')\n",
    "    logits = loaded_graph.get_tensor_by_name('predictions:0')\n",
    "    source_sequence_length = loaded_graph.get_tensor_by_name('source_sequence_length:0')\n",
    "    target_sequence_length = loaded_graph.get_tensor_by_name('target_sequence_length:0')\n",
    "    keep_prob = loaded_graph.get_tensor_by_name('keep_prob:0')\n",
    "    \n",
    "    #Multiply by batch_size to match the model's input parameters\n",
    "    answer_logits = sess.run(logits, {input_data: [text]*batch_size, \n",
    "                                      target_sequence_length: [len(text)]*batch_size, \n",
    "                                      source_sequence_length: [len(text)]*batch_size,\n",
    "                                      keep_prob: 1.0})[0] \n",
    "\n",
    "pad = source_letter_to_int[\"<PAD>\"] \n",
    "\n",
    "print('Original Text:', input_sentence)\n",
    "\n",
    "print('\\nSource')\n",
    "print('  Word Ids:    {}'.format([i for i in text]))\n",
    "print('  Input Words: {}'.format(\" \".join([source_int_to_letter[i] for i in text])))\n",
    "\n",
    "print('\\nTarget')\n",
    "print('  Word Ids:       {}'.format([i for i in answer_logits if i != pad]))\n",
    "print('  Response Words: {}'.format(\" \".join([target_int_to_letter[i] for i in answer_logits if i != pad])))"
   ]
  },
  {
   "cell_type": "code",
   "execution_count": null,
   "metadata": {
    "collapsed": true
   },
   "outputs": [],
   "source": []
  }
 ],
 "metadata": {
  "anaconda-cloud": {},
  "kernelspec": {
   "display_name": "Python 3",
   "language": "python",
   "name": "python3"
  },
  "language_info": {
   "codemirror_mode": {
    "name": "ipython",
    "version": 3
   },
   "file_extension": ".py",
   "mimetype": "text/x-python",
   "name": "python",
   "nbconvert_exporter": "python",
   "pygments_lexer": "ipython3",
   "version": "3.5.4"
  }
 },
 "nbformat": 4,
 "nbformat_minor": 1
}
